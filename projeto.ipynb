{
 "cells": [
  {
   "cell_type": "code",
   "execution_count": 130,
   "metadata": {},
   "outputs": [],
   "source": [
    "import numpy as np\n",
    "import pandas as pd\n",
    "\n",
    "from sklearn.model_selection import train_test_split\n",
    "from sklearn.metrics import classification_report\n",
    "\n",
    "from sktime.classification.kernel_based import RocketClassifier\n",
    "from sktime.classification.distance_based import KNeighborsTimeSeriesClassifier\n",
    "from sktime.classification.feature_based import Catch22Classifier\n",
    "\n",
    "import os"
   ]
  },
  {
   "cell_type": "code",
   "execution_count": 106,
   "metadata": {},
   "outputs": [],
   "source": [
    "WORK_DIR: str = '.'\n",
    "DATA_DIR: str = f\"{WORK_DIR}/dataset/mhealth\"\n",
    "\n",
    "SUBJECT_FILES: list[str] = os.listdir(DATA_DIR)\n",
    "DATA_COLUMNS: list[str] = [\n",
    "    'acceleration chest X',\n",
    "    'acceleration chest Y',\n",
    "    'acceleration chest Z',\n",
    "    'electrocardiogram signal 1',\n",
    "    'electrocardiogram signal 2',\n",
    "    'acceleration left-ankle X',\n",
    "    'acceleration left-ankle Y',\n",
    "    'acceleration left-ankle Z',\n",
    "    'gyro left-ankle X',\n",
    "    'gyro left-ankle Y',\n",
    "    'gyro left-ankle Z',\n",
    "    'magnetometer left-ankle X',\n",
    "    'magnetometer left-ankle Y',\n",
    "    'magnetometer left-ankle Z',\n",
    "    'acceleration right-lower-arm X',\n",
    "    'acceleration right-lower-arm Y',\n",
    "    'acceleration right-lower-arm Z',\n",
    "    'gyro right-lower-arm X',\n",
    "    'gyro right-lower-arm Y',\n",
    "    'gyro right-lower-arm Z',\n",
    "    'magnetometer right-lower-arm X',\n",
    "    'magnetometer right-lower-arm Y',\n",
    "    'magnetometer right-lower-arm Z',\n",
    "    'label'\n",
    "]\n",
    "\n",
    "LABEL_NAMES: list[str] = [\n",
    "    'NULL',\n",
    "    'Standing still',\n",
    "    'Sitting and relaxing',\n",
    "    'Lying down',\n",
    "    'Walking',\n",
    "    'Climbing stairs',\n",
    "    'Waist bends forward',\n",
    "    'Frontal elevation of arms',\n",
    "    'Knees bending (crouching)',\n",
    "    'Cycling',\n",
    "    'Jogging',\n",
    "    'Running',\n",
    "    'Jump front & back'\n",
    "]\n",
    "\n",
    "LABEL_KEYS: dict[str, int] = {label: id for id, label in enumerate(LABEL_NAMES)}"
   ]
  },
  {
   "cell_type": "code",
   "execution_count": 113,
   "metadata": {},
   "outputs": [
    {
     "data": {
      "text/html": [
       "<div>\n",
       "<style scoped>\n",
       "    .dataframe tbody tr th:only-of-type {\n",
       "        vertical-align: middle;\n",
       "    }\n",
       "\n",
       "    .dataframe tbody tr th {\n",
       "        vertical-align: top;\n",
       "    }\n",
       "\n",
       "    .dataframe thead th {\n",
       "        text-align: right;\n",
       "    }\n",
       "</style>\n",
       "<table border=\"1\" class=\"dataframe\">\n",
       "  <thead>\n",
       "    <tr style=\"text-align: right;\">\n",
       "      <th></th>\n",
       "      <th>label</th>\n",
       "      <th>len</th>\n",
       "    </tr>\n",
       "  </thead>\n",
       "  <tbody>\n",
       "    <tr>\n",
       "      <th>3</th>\n",
       "      <td>Standing still</td>\n",
       "      <td>3072</td>\n",
       "    </tr>\n",
       "    <tr>\n",
       "      <th>5</th>\n",
       "      <td>Sitting and relaxing</td>\n",
       "      <td>3072</td>\n",
       "    </tr>\n",
       "    <tr>\n",
       "      <th>7</th>\n",
       "      <td>Lying down</td>\n",
       "      <td>3072</td>\n",
       "    </tr>\n",
       "    <tr>\n",
       "      <th>9</th>\n",
       "      <td>Walking</td>\n",
       "      <td>3072</td>\n",
       "    </tr>\n",
       "    <tr>\n",
       "      <th>1</th>\n",
       "      <td>Climbing stairs</td>\n",
       "      <td>3072</td>\n",
       "    </tr>\n",
       "    <tr>\n",
       "      <th>11</th>\n",
       "      <td>Waist bends forward</td>\n",
       "      <td>2458</td>\n",
       "    </tr>\n",
       "    <tr>\n",
       "      <th>13</th>\n",
       "      <td>Frontal elevation of arms</td>\n",
       "      <td>2765</td>\n",
       "    </tr>\n",
       "    <tr>\n",
       "      <th>15</th>\n",
       "      <td>Knees bending (crouching)</td>\n",
       "      <td>2867</td>\n",
       "    </tr>\n",
       "    <tr>\n",
       "      <th>17</th>\n",
       "      <td>Cycling</td>\n",
       "      <td>3072</td>\n",
       "    </tr>\n",
       "    <tr>\n",
       "      <th>19</th>\n",
       "      <td>Jogging</td>\n",
       "      <td>3072</td>\n",
       "    </tr>\n",
       "    <tr>\n",
       "      <th>21</th>\n",
       "      <td>Running</td>\n",
       "      <td>3072</td>\n",
       "    </tr>\n",
       "    <tr>\n",
       "      <th>23</th>\n",
       "      <td>Jump front &amp; back</td>\n",
       "      <td>1024</td>\n",
       "    </tr>\n",
       "  </tbody>\n",
       "</table>\n",
       "</div>"
      ],
      "text/plain": [
       "                        label   len\n",
       "3              Standing still  3072\n",
       "5        Sitting and relaxing  3072\n",
       "7                  Lying down  3072\n",
       "9                     Walking  3072\n",
       "1             Climbing stairs  3072\n",
       "11        Waist bends forward  2458\n",
       "13  Frontal elevation of arms  2765\n",
       "15  Knees bending (crouching)  2867\n",
       "17                    Cycling  3072\n",
       "19                    Jogging  3072\n",
       "21                    Running  3072\n",
       "23          Jump front & back  1024"
      ]
     },
     "metadata": {},
     "output_type": "display_data"
    }
   ],
   "source": [
    "def print_activities_len(path: str) -> None:\n",
    "    df: pd.DataFrame = pd.read_csv(path, sep='\\t', header=None)\n",
    "    df.columns = DATA_COLUMNS\n",
    "\n",
    "    df = df.groupby(df['label'].diff().ne(0).cumsum()).aggregate(list).reset_index(drop=True)\n",
    "\n",
    "    df['label'] = df['label'].map(lambda x: x[0])\n",
    "    df = df[df['label']!=0]\n",
    "\n",
    "    df['len'] = df['gyro right-lower-arm Z'].transform(len)\n",
    "    df = df.sort_values('label')\n",
    "    df['label'] = df['label'].map(lambda x: LABEL_NAMES[x])\n",
    "    display(df[['label', 'len']])\n",
    "\n",
    "print_activities_len(f'{DATA_DIR}/{SUBJECT_FILES[1]}')"
   ]
  },
  {
   "cell_type": "code",
   "execution_count": null,
   "metadata": {},
   "outputs": [
    {
     "data": {
      "text/plain": [
       "label\n",
       "Standing still               140\n",
       "Sitting and relaxing         140\n",
       "Lying down                   140\n",
       "Walking                      140\n",
       "Climbing stairs              130\n",
       "Waist bends forward          127\n",
       "Frontal elevation of arms    132\n",
       "Knees bending (crouching)    131\n",
       "Cycling                      140\n",
       "Jogging                      140\n",
       "Running                      140\n",
       "Jump front & back             40\n",
       "Name: count, dtype: int64"
      ]
     },
     "metadata": {},
     "output_type": "display_data"
    }
   ],
   "source": [
    "def read_subject(path: str) -> pd.DataFrame:\n",
    "    SECTION_LEN: int = 200\n",
    "\n",
    "    df: pd.DataFrame = pd.read_csv(path, sep='\\t', header=None)\n",
    "    df.columns = DATA_COLUMNS\n",
    "\n",
    "    # Separate each section from the full series\n",
    "    # Each activity is divided in sections with 200 length\n",
    "    df['keys'] = df.groupby([df['label'].diff().ne(0).cumsum(), df['label']])['label'].rank('first')\n",
    "    df['keys'] = (((df['keys'] // SECTION_LEN) + 1) * df['label'] * len(df)) + df['label']\n",
    "    df = df.groupby(df['keys'].diff().ne(0).cumsum()).aggregate(list).reset_index(drop=True)\n",
    "    df = df.drop(columns='keys')\n",
    "\n",
    "    # Removes the NULL class\n",
    "    df = df[df['label']!=0]\n",
    "    # df = df[df['label'].isin([1, 2, 3, 4, 5, 9, 10, 11])]\n",
    "\n",
    "    # Fixes the labels\n",
    "    df['label'] = df['label'].transform(lambda x: x[0])\n",
    "    df = df.sort_values('label').reset_index(drop=True)\n",
    "\n",
    "    # Removes all sections that don't have 200 length\n",
    "    df['len'] = df['gyro right-lower-arm Z'].transform(len)\n",
    "    df = df[df['len'] == SECTION_LEN]\n",
    "    df = df.drop(columns='len')\n",
    "\n",
    "    # Replaces the numerical label by its meaning\n",
    "    df['label'] = df['label'].map(lambda x: LABEL_NAMES[x])\n",
    "    return df\n",
    "\n",
    "# Groups sections from all subjects\n",
    "df: pd.DataFrame = read_subject(f'{DATA_DIR}/{SUBJECT_FILES[0]}').head(0)\n",
    "for subject in SUBJECT_FILES:\n",
    "    df = pd.concat([df, read_subject(f'{DATA_DIR}/{subject}')])\n",
    "\n",
    "display(df['label'].value_counts().sort_index(key= lambda x: x.map(LABEL_KEYS)))"
   ]
  },
  {
   "cell_type": "code",
   "execution_count": 109,
   "metadata": {},
   "outputs": [
    {
     "name": "stdout",
     "output_type": "stream",
     "text": [
      "Train: (1232, 24)\n"
     ]
    },
    {
     "data": {
      "text/plain": [
       "label\n",
       "Standing still               107\n",
       "Sitting and relaxing         112\n",
       "Lying down                   113\n",
       "Walking                      116\n",
       "Climbing stairs               92\n",
       "Waist bends forward           98\n",
       "Frontal elevation of arms    112\n",
       "Knees bending (crouching)    111\n",
       "Cycling                      109\n",
       "Jogging                      116\n",
       "Running                      114\n",
       "Jump front & back             32\n",
       "Name: count, dtype: int64"
      ]
     },
     "metadata": {},
     "output_type": "display_data"
    },
    {
     "name": "stdout",
     "output_type": "stream",
     "text": [
      "Test: (308, 24)\n"
     ]
    },
    {
     "data": {
      "text/plain": [
       "label\n",
       "Standing still               33\n",
       "Sitting and relaxing         28\n",
       "Lying down                   27\n",
       "Walking                      24\n",
       "Climbing stairs              38\n",
       "Waist bends forward          29\n",
       "Frontal elevation of arms    20\n",
       "Knees bending (crouching)    20\n",
       "Cycling                      31\n",
       "Jogging                      24\n",
       "Running                      26\n",
       "Jump front & back             8\n",
       "Name: count, dtype: int64"
      ]
     },
     "metadata": {},
     "output_type": "display_data"
    }
   ],
   "source": [
    "# Separates some data for testing\n",
    "train_df: pd.DataFrame\n",
    "test_df: pd.DataFrame\n",
    "train_df, test_df = train_test_split(df, train_size=0.8)\n",
    "\n",
    "print(f\"Train: {train_df.shape}\")\n",
    "display(train_df['label'].value_counts().sort_index(key= lambda x: x.map(LABEL_KEYS)))\n",
    "print(f\"Test: {test_df.shape}\")\n",
    "display(test_df['label'].value_counts().sort_index(key= lambda x: x.map(LABEL_KEYS)))"
   ]
  },
  {
   "cell_type": "code",
   "execution_count": 110,
   "metadata": {},
   "outputs": [
    {
     "name": "stdout",
     "output_type": "stream",
     "text": [
      "Train:\n",
      "(1232, 23, 200)\n",
      "(1232,)\n",
      "\n",
      "Test:\n",
      "(308, 23, 200)\n",
      "(308,)\n"
     ]
    }
   ],
   "source": [
    "# Passes all values to numpy arrays\n",
    "print(\"Train:\")\n",
    "train_x: np.ndarray = np.array(train_df.drop(columns='label').to_numpy().tolist())\n",
    "print(train_x.shape)\n",
    "train_y: np.ndarray = train_df['label'].to_numpy()\n",
    "print(train_y.shape)\n",
    "\n",
    "print(\"\\nTest:\")\n",
    "test_x: np.ndarray = np.array(test_df.drop(columns='label').to_numpy().tolist())\n",
    "print(test_x.shape)\n",
    "test_y: np.ndarray = test_df['label'].to_numpy()\n",
    "print(test_y.shape)"
   ]
  },
  {
   "cell_type": "code",
   "execution_count": 121,
   "metadata": {},
   "outputs": [],
   "source": [
    "# Classifications using rocket\n",
    "rocket_classifier: RocketClassifier = RocketClassifier(num_kernels=10000, n_features_per_kernel=6)\n",
    "rocket_classifier.fit(train_x, train_y)\n",
    "test_pred = rocket_classifier.predict(test_x)"
   ]
  },
  {
   "cell_type": "code",
   "execution_count": 122,
   "metadata": {},
   "outputs": [
    {
     "name": "stdout",
     "output_type": "stream",
     "text": [
      "                           precision    recall  f1-score   support\n",
      "\n",
      "           Standing still       0.94      0.97      0.96        33\n",
      "     Sitting and relaxing       0.89      0.86      0.87        28\n",
      "               Lying down       0.85      0.85      0.85        27\n",
      "                  Walking       1.00      1.00      1.00        24\n",
      "          Climbing stairs       1.00      1.00      1.00        38\n",
      "      Waist bends forward       1.00      1.00      1.00        29\n",
      "Frontal elevation of arms       1.00      1.00      1.00        20\n",
      "Knees bending (crouching)       1.00      1.00      1.00        20\n",
      "                  Cycling       1.00      1.00      1.00        31\n",
      "                  Jogging       1.00      1.00      1.00        24\n",
      "                  Running       1.00      1.00      1.00        26\n",
      "        Jump front & back       1.00      1.00      1.00         8\n",
      "\n",
      "                 accuracy                           0.97       308\n",
      "                macro avg       0.97      0.97      0.97       308\n",
      "             weighted avg       0.97      0.97      0.97       308\n",
      "\n"
     ]
    }
   ],
   "source": [
    "# Checking performance\n",
    "print(classification_report(test_y, test_pred, zero_division=0, labels=LABEL_NAMES[1:]))"
   ]
  },
  {
   "cell_type": "code",
   "execution_count": null,
   "metadata": {},
   "outputs": [],
   "source": [
    "# Classifications using knn\n",
    "knn_classifier: KNeighborsTimeSeriesClassifier = KNeighborsTimeSeriesClassifier()\n",
    "knn_classifier.fit(train_x, train_y)\n",
    "test_pred = knn_classifier.predict(test_x)"
   ]
  },
  {
   "cell_type": "code",
   "execution_count": 120,
   "metadata": {},
   "outputs": [
    {
     "name": "stdout",
     "output_type": "stream",
     "text": [
      "                           precision    recall  f1-score   support\n",
      "\n",
      "           Standing still       1.00      1.00      1.00        33\n",
      "     Sitting and relaxing       1.00      1.00      1.00        28\n",
      "               Lying down       1.00      1.00      1.00        27\n",
      "                  Walking       1.00      1.00      1.00        24\n",
      "          Climbing stairs       0.97      0.97      0.97        38\n",
      "      Waist bends forward       1.00      1.00      1.00        29\n",
      "Frontal elevation of arms       1.00      1.00      1.00        20\n",
      "Knees bending (crouching)       1.00      1.00      1.00        20\n",
      "                  Cycling       0.97      1.00      0.98        31\n",
      "                  Jogging       0.92      1.00      0.96        24\n",
      "                  Running       1.00      0.92      0.96        26\n",
      "        Jump front & back       1.00      0.88      0.93         8\n",
      "\n",
      "                 accuracy                           0.99       308\n",
      "                macro avg       0.99      0.98      0.98       308\n",
      "             weighted avg       0.99      0.99      0.99       308\n",
      "\n"
     ]
    }
   ],
   "source": [
    "# Checking performance\n",
    "print(classification_report(test_y, test_pred, zero_division=0, labels=LABEL_NAMES[1:]))"
   ]
  },
  {
   "cell_type": "code",
   "execution_count": 131,
   "metadata": {},
   "outputs": [],
   "source": [
    "# Classifications using catch22\n",
    "catch22_classifier: Catch22Classifier = Catch22Classifier()\n",
    "catch22_classifier.fit(train_x, train_y)\n",
    "test_pred = catch22_classifier.predict(test_x)"
   ]
  },
  {
   "cell_type": "code",
   "execution_count": 132,
   "metadata": {},
   "outputs": [
    {
     "name": "stdout",
     "output_type": "stream",
     "text": [
      "                           precision    recall  f1-score   support\n",
      "\n",
      "           Standing still       1.00      1.00      1.00        33\n",
      "     Sitting and relaxing       1.00      1.00      1.00        28\n",
      "               Lying down       1.00      1.00      1.00        27\n",
      "                  Walking       1.00      1.00      1.00        24\n",
      "          Climbing stairs       1.00      1.00      1.00        38\n",
      "      Waist bends forward       1.00      1.00      1.00        29\n",
      "Frontal elevation of arms       1.00      1.00      1.00        20\n",
      "Knees bending (crouching)       1.00      1.00      1.00        20\n",
      "                  Cycling       1.00      1.00      1.00        31\n",
      "                  Jogging       1.00      1.00      1.00        24\n",
      "                  Running       1.00      1.00      1.00        26\n",
      "        Jump front & back       1.00      1.00      1.00         8\n",
      "\n",
      "                 accuracy                           1.00       308\n",
      "                macro avg       1.00      1.00      1.00       308\n",
      "             weighted avg       1.00      1.00      1.00       308\n",
      "\n"
     ]
    }
   ],
   "source": [
    "# Checking performance\n",
    "print(classification_report(test_y, test_pred, zero_division=0, labels=LABEL_NAMES[1:]))"
   ]
  }
 ],
 "metadata": {
  "kernelspec": {
   "display_name": "Python 3",
   "language": "python",
   "name": "python3"
  },
  "language_info": {
   "codemirror_mode": {
    "name": "ipython",
    "version": 3
   },
   "file_extension": ".py",
   "mimetype": "text/x-python",
   "name": "python",
   "nbconvert_exporter": "python",
   "pygments_lexer": "ipython3",
   "version": "3.12.1"
  }
 },
 "nbformat": 4,
 "nbformat_minor": 2
}
